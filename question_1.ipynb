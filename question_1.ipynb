{
  "nbformat": 4,
  "nbformat_minor": 0,
  "metadata": {
    "colab": {
      "name": "question_1.ipynb",
      "provenance": [],
      "collapsed_sections": [],
      "include_colab_link": true
    },
    "kernelspec": {
      "display_name": "Python 3",
      "name": "python3"
    }
  },
  "cells": [
    {
      "cell_type": "markdown",
      "metadata": {
        "id": "view-in-github",
        "colab_type": "text"
      },
      "source": [
        "<a href=\"https://colab.research.google.com/github/gourish2/CPU-scheduling/blob/master/question_1.ipynb\" target=\"_parent\"><img src=\"https://colab.research.google.com/assets/colab-badge.svg\" alt=\"Open In Colab\"/></a>"
      ]
    },
    {
      "cell_type": "code",
      "metadata": {
        "colab": {
          "base_uri": "https://localhost:8080/"
        },
        "id": "Gt7iQaTnt3dC",
        "outputId": "8df38d1c-3016-4997-ceda-fe8483d457d5"
      },
      "source": [
        "from google.colab import drive\n",
        "drive.mount('/content/drive')"
      ],
      "execution_count": 4,
      "outputs": [
        {
          "output_type": "stream",
          "text": [
            "Drive already mounted at /content/drive; to attempt to forcibly remount, call drive.mount(\"/content/drive\", force_remount=True).\n"
          ],
          "name": "stdout"
        }
      ]
    },
    {
      "cell_type": "code",
      "metadata": {
        "colab": {
          "base_uri": "https://localhost:8080/"
        },
        "id": "6CAM4yFnHnYO",
        "outputId": "a658a3a5-708f-4d10-bf83-43074f343b9b"
      },
      "source": [
        "import pandas as pd\n",
        "import numpy as np\n",
        "import matplotlib.pyplot as plt\n",
        "import seaborn as sns\n",
        "sns.set() # for plot styling\n",
        "import warnings\n",
        "warnings.filterwarnings('ignore')\n",
        "import matplotlib.pyplot as plt\n",
        "plt.rcParams['figure.figsize'] = (12, 6)\n",
        "\n",
        "dataset=pd.read_csv('/content/drive/MyDrive/AI lab Sessional 2/101803698_ques1/dataset.csv')\n",
        "print(len(dataset))\n",
        "print(dataset.head())\n"
      ],
      "execution_count": 5,
      "outputs": [
        {
          "output_type": "stream",
          "text": [
            "4000\n",
            "           id  mean_dist_day  mean_over_speed_perc\n",
            "0  3423311935          71.24                    28\n",
            "1  3423313212          52.53                    25\n",
            "2  3423313724          64.54                    27\n",
            "3  3423311373          55.69                    22\n",
            "4  3423310999          54.58                    25\n"
          ],
          "name": "stdout"
        }
      ]
    },
    {
      "cell_type": "code",
      "metadata": {
        "colab": {
          "base_uri": "https://localhost:8080/"
        },
        "id": "EGv7MVZlJM9l",
        "outputId": "917e106d-c818-44b8-9d2c-fb400143e013"
      },
      "source": [
        "print(dataset.info())"
      ],
      "execution_count": 6,
      "outputs": [
        {
          "output_type": "stream",
          "text": [
            "<class 'pandas.core.frame.DataFrame'>\n",
            "RangeIndex: 4000 entries, 0 to 3999\n",
            "Data columns (total 3 columns):\n",
            " #   Column                Non-Null Count  Dtype  \n",
            "---  ------                --------------  -----  \n",
            " 0   id                    4000 non-null   int64  \n",
            " 1   mean_dist_day         4000 non-null   float64\n",
            " 2   mean_over_speed_perc  4000 non-null   int64  \n",
            "dtypes: float64(1), int64(2)\n",
            "memory usage: 93.9 KB\n",
            "None\n"
          ],
          "name": "stdout"
        }
      ]
    },
    {
      "cell_type": "code",
      "metadata": {
        "colab": {
          "base_uri": "https://localhost:8080/"
        },
        "id": "uPMPAkV-JbVD",
        "outputId": "ff0190de-ac92-4df3-f7b4-e30a7623a98d"
      },
      "source": [
        "print(dataset.isnull().sum())"
      ],
      "execution_count": 7,
      "outputs": [
        {
          "output_type": "stream",
          "text": [
            "id                      0\n",
            "mean_dist_day           0\n",
            "mean_over_speed_perc    0\n",
            "dtype: int64\n"
          ],
          "name": "stdout"
        }
      ]
    },
    {
      "cell_type": "code",
      "metadata": {
        "colab": {
          "base_uri": "https://localhost:8080/"
        },
        "id": "ifyOUMgRNt5q",
        "outputId": "482d92d9-c7c8-428a-f68e-8e4dc1f63831"
      },
      "source": [
        "print(dataset.isna().sum())"
      ],
      "execution_count": 8,
      "outputs": [
        {
          "output_type": "stream",
          "text": [
            "id                      0\n",
            "mean_dist_day           0\n",
            "mean_over_speed_perc    0\n",
            "dtype: int64\n"
          ],
          "name": "stdout"
        }
      ]
    },
    {
      "cell_type": "markdown",
      "metadata": {
        "id": "GXhEm0l1NrYq"
      },
      "source": [
        "So, this means dataset does not have any missing value. "
      ]
    },
    {
      "cell_type": "code",
      "metadata": {
        "colab": {
          "base_uri": "https://localhost:8080/"
        },
        "id": "g04wmi1QJUj0",
        "outputId": "82914e7e-0084-4b9f-b33c-7b98779bd4a3"
      },
      "source": [
        "print(dataset.describe())"
      ],
      "execution_count": 9,
      "outputs": [
        {
          "output_type": "stream",
          "text": [
            "                 id  mean_dist_day  mean_over_speed_perc\n",
            "count  4.000000e+03    4000.000000           4000.000000\n",
            "mean   3.423312e+09      76.041523             10.721000\n",
            "std    1.154845e+03      53.469563             13.708543\n",
            "min    3.423310e+09      15.520000              0.000000\n",
            "25%    3.423311e+09      45.247500              4.000000\n",
            "50%    3.423312e+09      53.330000              6.000000\n",
            "75%    3.423313e+09      65.632500              9.000000\n",
            "max    3.423314e+09     244.790000            100.000000\n"
          ],
          "name": "stdout"
        }
      ]
    },
    {
      "cell_type": "code",
      "metadata": {
        "colab": {
          "base_uri": "https://localhost:8080/"
        },
        "id": "L6uz5RfdW6cS",
        "outputId": "f9e3b7e8-4e15-4cbc-e4bf-bd86949be839"
      },
      "source": [
        "x = dataset.iloc[:,[1,2]].values\n",
        "print(x)"
      ],
      "execution_count": 10,
      "outputs": [
        {
          "output_type": "stream",
          "text": [
            "[[ 71.24  28.  ]\n",
            " [ 52.53  25.  ]\n",
            " [ 64.54  27.  ]\n",
            " ...\n",
            " [170.91  12.  ]\n",
            " [176.14   5.  ]\n",
            " [168.03   9.  ]]\n"
          ],
          "name": "stdout"
        }
      ]
    },
    {
      "cell_type": "code",
      "metadata": {
        "id": "RXrg_IaqgmLp"
      },
      "source": [
        "from sklearn.cluster import KMeans\n",
        "kmeans = KMeans(n_clusters=2, init='k-means++')\n",
        "y_kmeans = kmeans.fit_predict(x)  "
      ],
      "execution_count": 11,
      "outputs": []
    },
    {
      "cell_type": "code",
      "metadata": {
        "colab": {
          "base_uri": "https://localhost:8080/"
        },
        "id": "0Wy08DhFgv8j",
        "outputId": "b1730e54-9921-45b9-e079-3b5e905bc8a4"
      },
      "source": [
        "kmeans.cluster_centers_"
      ],
      "execution_count": 12,
      "outputs": [
        {
          "output_type": "execute_result",
          "data": {
            "text/plain": [
              "array([[180.017075  ,  18.29      ],\n",
              "       [ 50.04763437,   8.82875   ]])"
            ]
          },
          "metadata": {
            "tags": []
          },
          "execution_count": 12
        }
      ]
    },
    {
      "cell_type": "code",
      "metadata": {
        "colab": {
          "base_uri": "https://localhost:8080/"
        },
        "id": "vESEVWsLg1GA",
        "outputId": "e2796ac2-60a5-4195-84fe-fbbc1a6c87d2"
      },
      "source": [
        "print (y_kmeans)\n",
        "print (len(y_kmeans))"
      ],
      "execution_count": 13,
      "outputs": [
        {
          "output_type": "stream",
          "text": [
            "[1 1 1 ... 0 0 0]\n",
            "4000\n"
          ],
          "name": "stdout"
        }
      ]
    },
    {
      "cell_type": "code",
      "metadata": {
        "colab": {
          "base_uri": "https://localhost:8080/"
        },
        "id": "Otys5GXjg7__",
        "outputId": "d2916a04-6a56-4cfb-ab4a-d8d43786e94e"
      },
      "source": [
        "# check how many drivers are there in 1st and 2nd cluster\n",
        "\n",
        "print (type(y_kmeans))\n",
        "unique, counts = np.unique(y_kmeans,return_counts=True)\n",
        "print (dict(zip(unique,counts)))"
      ],
      "execution_count": 14,
      "outputs": [
        {
          "output_type": "stream",
          "text": [
            "<class 'numpy.ndarray'>\n",
            "{0: 800, 1: 3200}\n"
          ],
          "name": "stdout"
        }
      ]
    },
    {
      "cell_type": "code",
      "metadata": {
        "colab": {
          "base_uri": "https://localhost:8080/",
          "height": 394
        },
        "id": "ZVwBySfahA4A",
        "outputId": "f95943a1-bf39-4f3f-c9d5-54103df1bc5c"
      },
      "source": [
        "plt.scatter(x[y_kmeans==0,0], x[y_kmeans==0,1],s=100,c='red',label='Cluster1')\n",
        "plt.scatter(x[y_kmeans==1,0], x[y_kmeans==1,1],s=100,c='blue',label='Cluster2')\n",
        "plt.legend()\n",
        "plt.xlabel('mean_dist_day')\n",
        "plt.ylabel('mean_over_speed_perc')\n",
        "plt.show()"
      ],
      "execution_count": 15,
      "outputs": [
        {
          "output_type": "display_data",
          "data": {
            "image/png": "[encoded data removed]",
            "text/plain": [
              "<Figure size 864x432 with 1 Axes>"
            ]
          },
          "metadata": {
            "tags": []
          }
        }
      ]
    },
    {
      "cell_type": "code",
      "metadata": {
        "colab": {
          "base_uri": "https://localhost:8080/",
          "height": 419
        },
        "id": "m5D-Tl1MhHyF",
        "outputId": "939a3506-0835-4459-ac04-e987285161e5"
      },
      "source": [
        "clust = pd.DataFrame(y_kmeans)\n",
        "clust.columns = ['Cluster']\n",
        "pd.concat([dataset,clust],axis=1)    #concat table by index"
      ],
      "execution_count": 16,
      "outputs": [
        {
          "output_type": "execute_result",
          "data": {
            "text/html": [
              "<div>\n",
              "<style scoped>\n",
              "    .dataframe tbody tr th:only-of-type {\n",
              "        vertical-align: middle;\n",
              "    }\n",
              "\n",
              "    .dataframe tbody tr th {\n",
              "        vertical-align: top;\n",
              "    }\n",
              "\n",
              "    .dataframe thead th {\n",
              "        text-align: right;\n",
              "    }\n",
              "</style>\n",
              "<table border=\"1\" class=\"dataframe\">\n",
              "  <thead>\n",
              "    <tr style=\"text-align: right;\">\n",
              "      <th></th>\n",
              "      <th>id</th>\n",
              "      <th>mean_dist_day</th>\n",
              "      <th>mean_over_speed_perc</th>\n",
              "      <th>Cluster</th>\n",
              "    </tr>\n",
              "  </thead>\n",
              "  <tbody>\n",
              "    <tr>\n",
              "      <th>0</th>\n",
              "      <td>3423311935</td>\n",
              "      <td>71.24</td>\n",
              "      <td>28</td>\n",
              "      <td>1</td>\n",
              "    </tr>\n",
              "    <tr>\n",
              "      <th>1</th>\n",
              "      <td>3423313212</td>\n",
              "      <td>52.53</td>\n",
              "      <td>25</td>\n",
              "      <td>1</td>\n",
              "    </tr>\n",
              "    <tr>\n",
              "      <th>2</th>\n",
              "      <td>3423313724</td>\n",
              "      <td>64.54</td>\n",
              "      <td>27</td>\n",
              "      <td>1</td>\n",
              "    </tr>\n",
              "    <tr>\n",
              "      <th>3</th>\n",
              "      <td>3423311373</td>\n",
              "      <td>55.69</td>\n",
              "      <td>22</td>\n",
              "      <td>1</td>\n",
              "    </tr>\n",
              "    <tr>\n",
              "      <th>4</th>\n",
              "      <td>3423310999</td>\n",
              "      <td>54.58</td>\n",
              "      <td>25</td>\n",
              "      <td>1</td>\n",
              "    </tr>\n",
              "    <tr>\n",
              "      <th>...</th>\n",
              "      <td>...</td>\n",
              "      <td>...</td>\n",
              "      <td>...</td>\n",
              "      <td>...</td>\n",
              "    </tr>\n",
              "    <tr>\n",
              "      <th>3995</th>\n",
              "      <td>3423310685</td>\n",
              "      <td>160.04</td>\n",
              "      <td>10</td>\n",
              "      <td>0</td>\n",
              "    </tr>\n",
              "    <tr>\n",
              "      <th>3996</th>\n",
              "      <td>3423312600</td>\n",
              "      <td>176.17</td>\n",
              "      <td>5</td>\n",
              "      <td>0</td>\n",
              "    </tr>\n",
              "    <tr>\n",
              "      <th>3997</th>\n",
              "      <td>3423312921</td>\n",
              "      <td>170.91</td>\n",
              "      <td>12</td>\n",
              "      <td>0</td>\n",
              "    </tr>\n",
              "    <tr>\n",
              "      <th>3998</th>\n",
              "      <td>3423313630</td>\n",
              "      <td>176.14</td>\n",
              "      <td>5</td>\n",
              "      <td>0</td>\n",
              "    </tr>\n",
              "    <tr>\n",
              "      <th>3999</th>\n",
              "      <td>3423311533</td>\n",
              "      <td>168.03</td>\n",
              "      <td>9</td>\n",
              "      <td>0</td>\n",
              "    </tr>\n",
              "  </tbody>\n",
              "</table>\n",
              "<p>4000 rows × 4 columns</p>\n",
              "</div>"
            ],
            "text/plain": [
              "              id  mean_dist_day  mean_over_speed_perc  Cluster\n",
              "0     3423311935          71.24                    28        1\n",
              "1     3423313212          52.53                    25        1\n",
              "2     3423313724          64.54                    27        1\n",
              "3     3423311373          55.69                    22        1\n",
              "4     3423310999          54.58                    25        1\n",
              "...          ...            ...                   ...      ...\n",
              "3995  3423310685         160.04                    10        0\n",
              "3996  3423312600         176.17                     5        0\n",
              "3997  3423312921         170.91                    12        0\n",
              "3998  3423313630         176.14                     5        0\n",
              "3999  3423311533         168.03                     9        0\n",
              "\n",
              "[4000 rows x 4 columns]"
            ]
          },
          "metadata": {
            "tags": []
          },
          "execution_count": 16
        }
      ]
    }
  ]
}