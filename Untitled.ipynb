{
  "nbformat": 4,
  "nbformat_minor": 0,
  "metadata": {
    "colab": {
      "name": "Untitled",
      "provenance": [],
      "collapsed_sections": [],
      "mount_file_id": "1XX4k6YYCHEEzlW9ezxbDV6yeOI2909xV",
      "authorship_tag": "ABX9TyMZ5kJpOSUZAKxmN7Q8xj1T",
      "include_colab_link": true
    },
    "kernelspec": {
      "display_name": "Python 3",
      "name": "python3"
    }
  },
  "cells": [
    {
      "cell_type": "markdown",
      "metadata": {
        "id": "view-in-github",
        "colab_type": "text"
      },
      "source": [
        "<a href=\"https://colab.research.google.com/github/gourish2/CPU-scheduling/blob/master/Untitled.ipynb\" target=\"_parent\"><img src=\"https://colab.research.google.com/assets/colab-badge.svg\" alt=\"Open In Colab\"/></a>"
      ]
    },
    {
      "cell_type": "code",
      "metadata": {
        "colab": {
          "base_uri": "https://localhost:8080/"
        },
        "id": "6CAM4yFnHnYO",
        "outputId": "2b49d9f1-29d8-430b-ba87-1483245a0722"
      },
      "source": [
        "import pandas as pd\n",
        "import numpy as np\n",
        "import matplotlib.pyplot as plt\n",
        "import seaborn as sns\n",
        "sns.set() # for plot styling\n",
        "import warnings\n",
        "warnings.filterwarnings('ignore')\n",
        "import matplotlib.pyplot as plt\n",
        "plt.rcParams['figure.figsize'] = (12, 6)\n",
        "\n",
        "dataset=pd.read_csv('/content/drive/MyDrive/AI lab Sessional 2/101803698_ques1/dataset.csv')\n",
        "print(len(dataset))\n",
        "print(dataset.head())\n"
      ],
      "execution_count": 47,
      "outputs": [
        {
          "output_type": "stream",
          "text": [
            "4000\n",
            "           id  mean_dist_day  mean_over_speed_perc\n",
            "0  3423311935          71.24                    28\n",
            "1  3423313212          52.53                    25\n",
            "2  3423313724          64.54                    27\n",
            "3  3423311373          55.69                    22\n",
            "4  3423310999          54.58                    25\n"
          ],
          "name": "stdout"
        }
      ]
    },
    {
      "cell_type": "code",
      "metadata": {
        "colab": {
          "base_uri": "https://localhost:8080/"
        },
        "id": "EGv7MVZlJM9l",
        "outputId": "cd8944bd-3f15-4be9-ce55-72ca76f15bb1"
      },
      "source": [
        "print(dataset.info())"
      ],
      "execution_count": 48,
      "outputs": [
        {
          "output_type": "stream",
          "text": [
            "<class 'pandas.core.frame.DataFrame'>\n",
            "RangeIndex: 4000 entries, 0 to 3999\n",
            "Data columns (total 3 columns):\n",
            " #   Column                Non-Null Count  Dtype  \n",
            "---  ------                --------------  -----  \n",
            " 0   id                    4000 non-null   int64  \n",
            " 1   mean_dist_day         4000 non-null   float64\n",
            " 2   mean_over_speed_perc  4000 non-null   int64  \n",
            "dtypes: float64(1), int64(2)\n",
            "memory usage: 93.9 KB\n",
            "None\n"
          ],
          "name": "stdout"
        }
      ]
    },
    {
      "cell_type": "code",
      "metadata": {
        "colab": {
          "base_uri": "https://localhost:8080/"
        },
        "id": "uPMPAkV-JbVD",
        "outputId": "ad1b9abf-df72-4fd8-be3b-cf64e9441d19"
      },
      "source": [
        "print(dataset.isnull().sum())"
      ],
      "execution_count": 49,
      "outputs": [
        {
          "output_type": "stream",
          "text": [
            "id                      0\n",
            "mean_dist_day           0\n",
            "mean_over_speed_perc    0\n",
            "dtype: int64\n"
          ],
          "name": "stdout"
        }
      ]
    },
    {
      "cell_type": "code",
      "metadata": {
        "colab": {
          "base_uri": "https://localhost:8080/"
        },
        "id": "ifyOUMgRNt5q",
        "outputId": "358baee5-f7f2-474b-ea88-329d330f6280"
      },
      "source": [
        "print(dataset.isna().sum())"
      ],
      "execution_count": 50,
      "outputs": [
        {
          "output_type": "stream",
          "text": [
            "id                      0\n",
            "mean_dist_day           0\n",
            "mean_over_speed_perc    0\n",
            "dtype: int64\n"
          ],
          "name": "stdout"
        }
      ]
    },
    {
      "cell_type": "markdown",
      "metadata": {
        "id": "GXhEm0l1NrYq"
      },
      "source": [
        "So, this means dataset does not have any missing value. "
      ]
    },
    {
      "cell_type": "code",
      "metadata": {
        "colab": {
          "base_uri": "https://localhost:8080/"
        },
        "id": "g04wmi1QJUj0",
        "outputId": "d36593e1-16b5-4956-c4c1-9266d42ba08b"
      },
      "source": [
        "print(dataset.describe())"
      ],
      "execution_count": 51,
      "outputs": [
        {
          "output_type": "stream",
          "text": [
            "                 id  mean_dist_day  mean_over_speed_perc\n",
            "count  4.000000e+03    4000.000000           4000.000000\n",
            "mean   3.423312e+09      76.041523             10.721000\n",
            "std    1.154845e+03      53.469563             13.708543\n",
            "min    3.423310e+09      15.520000              0.000000\n",
            "25%    3.423311e+09      45.247500              4.000000\n",
            "50%    3.423312e+09      53.330000              6.000000\n",
            "75%    3.423313e+09      65.632500              9.000000\n",
            "max    3.423314e+09     244.790000            100.000000\n"
          ],
          "name": "stdout"
        }
      ]
    },
    {
      "cell_type": "code",
      "metadata": {
        "colab": {
          "base_uri": "https://localhost:8080/"
        },
        "id": "L6uz5RfdW6cS",
        "outputId": "95ab64b3-a080-47ce-9c80-d162ff81feec"
      },
      "source": [
        "x = dataset.iloc[:,[1,2]].values\n",
        "print(x)"
      ],
      "execution_count": 61,
      "outputs": [
        {
          "output_type": "stream",
          "text": [
            "[[ 71.24  28.  ]\n",
            " [ 52.53  25.  ]\n",
            " [ 64.54  27.  ]\n",
            " ...\n",
            " [170.91  12.  ]\n",
            " [176.14   5.  ]\n",
            " [168.03   9.  ]]\n"
          ],
          "name": "stdout"
        }
      ]
    },
    {
      "cell_type": "code",
      "metadata": {
        "id": "RXrg_IaqgmLp"
      },
      "source": [
        "from sklearn.cluster import KMeans\n",
        "kmeans = KMeans(n_clusters=2, init='k-means++')\n",
        "y_kmeans = kmeans.fit_predict(x)  "
      ],
      "execution_count": 62,
      "outputs": []
    },
    {
      "cell_type": "code",
      "metadata": {
        "colab": {
          "base_uri": "https://localhost:8080/"
        },
        "id": "0Wy08DhFgv8j",
        "outputId": "d7f05340-59d7-4817-c9b7-6667d5ff35fa"
      },
      "source": [
        "kmeans.cluster_centers_"
      ],
      "execution_count": 63,
      "outputs": [
        {
          "output_type": "execute_result",
          "data": {
            "text/plain": [
              "array([[ 50.04763437,   8.82875   ],\n",
              "       [180.017075  ,  18.29      ]])"
            ]
          },
          "metadata": {
            "tags": []
          },
          "execution_count": 63
        }
      ]
    },
    {
      "cell_type": "code",
      "metadata": {
        "colab": {
          "base_uri": "https://localhost:8080/"
        },
        "id": "vESEVWsLg1GA",
        "outputId": "4ac150ad-9704-429b-f6f4-ac6f3a768799"
      },
      "source": [
        "print (y_kmeans)\n",
        "print (len(y_kmeans))"
      ],
      "execution_count": 64,
      "outputs": [
        {
          "output_type": "stream",
          "text": [
            "[0 0 0 ... 1 1 1]\n",
            "4000\n"
          ],
          "name": "stdout"
        }
      ]
    },
    {
      "cell_type": "code",
      "metadata": {
        "colab": {
          "base_uri": "https://localhost:8080/"
        },
        "id": "Otys5GXjg7__",
        "outputId": "dec06953-398e-4fac-ac76-ad3059e694d0"
      },
      "source": [
        "# check how many drivers are there in 1st and 2nd cluster\n",
        "\n",
        "print (type(y_kmeans))\n",
        "unique, counts = np.unique(y_kmeans,return_counts=True)\n",
        "print (dict(zip(unique,counts)))"
      ],
      "execution_count": 65,
      "outputs": [
        {
          "output_type": "stream",
          "text": [
            "<class 'numpy.ndarray'>\n",
            "{0: 3200, 1: 800}\n"
          ],
          "name": "stdout"
        }
      ]
    },
    {
      "cell_type": "code",
      "metadata": {
        "colab": {
          "base_uri": "https://localhost:8080/",
          "height": 394
        },
        "id": "ZVwBySfahA4A",
        "outputId": "c76b51c5-fec8-48c5-f557-cd0568b79b7c"
      },
      "source": [
        "plt.scatter(x[y_kmeans==0,0], x[y_kmeans==0,1],s=100,c='red',label='Cluster1')\n",
        "plt.scatter(x[y_kmeans==1,0], x[y_kmeans==1,1],s=100,c='blue',label='Cluster2')\n",
        "plt.legend()\n",
        "plt.xlabel('mean_dist_day')\n",
        "plt.ylabel('mean_over_speed_perc')\n",
        "plt.show()"
      ],
      "execution_count": 66,
      "outputs": [
        {
          "output_type": "display_data",
          "data": {
            "image/png": "[encoded data removed]",
            "text/plain": [
              "<Figure size 864x432 with 1 Axes>"
            ]
          },
          "metadata": {
            "tags": []
          }
        }
      ]
    },
    {
      "cell_type": "code",
      "metadata": {
        "colab": {
          "base_uri": "https://localhost:8080/",
          "height": 419
        },
        "id": "m5D-Tl1MhHyF",
        "outputId": "5ad9d850-fff5-4017-869c-e2c4645a4a8b"
      },
      "source": [
        "clust = pd.DataFrame(y_kmeans)\n",
        "clust.columns = ['Cluster']\n",
        "pd.concat([dataset,clust],axis=1)    #concat table by index"
      ],
      "execution_count": 67,
      "outputs": [
        {
          "output_type": "execute_result",
          "data": {
            "text/html": [
              "<div>\n",
              "<style scoped>\n",
              "    .dataframe tbody tr th:only-of-type {\n",
              "        vertical-align: middle;\n",
              "    }\n",
              "\n",
              "    .dataframe tbody tr th {\n",
              "        vertical-align: top;\n",
              "    }\n",
              "\n",
              "    .dataframe thead th {\n",
              "        text-align: right;\n",
              "    }\n",
              "</style>\n",
              "<table border=\"1\" class=\"dataframe\">\n",
              "  <thead>\n",
              "    <tr style=\"text-align: right;\">\n",
              "      <th></th>\n",
              "      <th>id</th>\n",
              "      <th>mean_dist_day</th>\n",
              "      <th>mean_over_speed_perc</th>\n",
              "      <th>Cluster</th>\n",
              "    </tr>\n",
              "  </thead>\n",
              "  <tbody>\n",
              "    <tr>\n",
              "      <th>0</th>\n",
              "      <td>3423311935</td>\n",
              "      <td>71.24</td>\n",
              "      <td>28</td>\n",
              "      <td>0</td>\n",
              "    </tr>\n",
              "    <tr>\n",
              "      <th>1</th>\n",
              "      <td>3423313212</td>\n",
              "      <td>52.53</td>\n",
              "      <td>25</td>\n",
              "      <td>0</td>\n",
              "    </tr>\n",
              "    <tr>\n",
              "      <th>2</th>\n",
              "      <td>3423313724</td>\n",
              "      <td>64.54</td>\n",
              "      <td>27</td>\n",
              "      <td>0</td>\n",
              "    </tr>\n",
              "    <tr>\n",
              "      <th>3</th>\n",
              "      <td>3423311373</td>\n",
              "      <td>55.69</td>\n",
              "      <td>22</td>\n",
              "      <td>0</td>\n",
              "    </tr>\n",
              "    <tr>\n",
              "      <th>4</th>\n",
              "      <td>3423310999</td>\n",
              "      <td>54.58</td>\n",
              "      <td>25</td>\n",
              "      <td>0</td>\n",
              "    </tr>\n",
              "    <tr>\n",
              "      <th>...</th>\n",
              "      <td>...</td>\n",
              "      <td>...</td>\n",
              "      <td>...</td>\n",
              "      <td>...</td>\n",
              "    </tr>\n",
              "    <tr>\n",
              "      <th>3995</th>\n",
              "      <td>3423310685</td>\n",
              "      <td>160.04</td>\n",
              "      <td>10</td>\n",
              "      <td>1</td>\n",
              "    </tr>\n",
              "    <tr>\n",
              "      <th>3996</th>\n",
              "      <td>3423312600</td>\n",
              "      <td>176.17</td>\n",
              "      <td>5</td>\n",
              "      <td>1</td>\n",
              "    </tr>\n",
              "    <tr>\n",
              "      <th>3997</th>\n",
              "      <td>3423312921</td>\n",
              "      <td>170.91</td>\n",
              "      <td>12</td>\n",
              "      <td>1</td>\n",
              "    </tr>\n",
              "    <tr>\n",
              "      <th>3998</th>\n",
              "      <td>3423313630</td>\n",
              "      <td>176.14</td>\n",
              "      <td>5</td>\n",
              "      <td>1</td>\n",
              "    </tr>\n",
              "    <tr>\n",
              "      <th>3999</th>\n",
              "      <td>3423311533</td>\n",
              "      <td>168.03</td>\n",
              "      <td>9</td>\n",
              "      <td>1</td>\n",
              "    </tr>\n",
              "  </tbody>\n",
              "</table>\n",
              "<p>4000 rows × 4 columns</p>\n",
              "</div>"
            ],
            "text/plain": [
              "              id  mean_dist_day  mean_over_speed_perc  Cluster\n",
              "0     3423311935          71.24                    28        0\n",
              "1     3423313212          52.53                    25        0\n",
              "2     3423313724          64.54                    27        0\n",
              "3     3423311373          55.69                    22        0\n",
              "4     3423310999          54.58                    25        0\n",
              "...          ...            ...                   ...      ...\n",
              "3995  3423310685         160.04                    10        1\n",
              "3996  3423312600         176.17                     5        1\n",
              "3997  3423312921         170.91                    12        1\n",
              "3998  3423313630         176.14                     5        1\n",
              "3999  3423311533         168.03                     9        1\n",
              "\n",
              "[4000 rows x 4 columns]"
            ]
          },
          "metadata": {
            "tags": []
          },
          "execution_count": 67
        }
      ]
    }
  ]
}